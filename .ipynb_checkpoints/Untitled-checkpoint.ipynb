{
 "cells": [
  {
   "cell_type": "code",
   "execution_count": 25,
   "id": "ce094fe8-e60f-40cc-9113-d465d90c934b",
   "metadata": {},
   "outputs": [],
   "source": [
    "import json\n",
    "import sqlite3\n",
    "import pandas as pd\n",
    "import pprint"
   ]
  },
  {
   "cell_type": "code",
   "execution_count": 6,
   "id": "bbe69ea4-3629-4a1c-b416-ce4bdfe25489",
   "metadata": {},
   "outputs": [],
   "source": [
    "with open(\"./json/acceptable.json\") as f:\n",
    "    data = json.load(f)"
   ]
  },
  {
   "cell_type": "code",
   "execution_count": 47,
   "id": "d998b22e-ab1a-43db-ad24-53fce4d4e106",
   "metadata": {},
   "outputs": [
    {
     "name": "stdout",
     "output_type": "stream",
     "text": [
      "{'definition': 'Able to be agreed on; suitable.', 'synonyms': ['suitable', 'appropriate', 'acceptable', 'fitting', 'fit', 'correct', 'proper', 'desirable', 'preferable', 'ideal'], 'example': 'has tried to find a solution acceptable to everyone'}\n",
      "{'definition': 'Able to be tolerated or allowed.', 'synonyms': ['bearable', 'tolerable', 'allowable', 'admissible', 'supportable', 'sustainable', 'justifiable', 'defensible', 'defendable'], 'example': 'pollution in the city had reached four times the acceptable level'}\n"
     ]
    }
   ],
   "source": [
    "for d in data[0]['meanings'][0]['definitions']:\n",
    "    print(d)"
   ]
  },
  {
   "cell_type": "code",
   "execution_count": 48,
   "id": "698e13c8-87ec-4d25-b2d1-455ea350d0fd",
   "metadata": {},
   "outputs": [
    {
     "name": "stdout",
     "output_type": "stream",
     "text": [
      "['suitable', 'appropriate', 'acceptable', 'fitting', 'fit', 'correct', 'proper', 'desirable', 'preferable', 'ideal']\n",
      "['bearable', 'tolerable', 'allowable', 'admissible', 'supportable', 'sustainable', 'justifiable', 'defensible', 'defendable']\n"
     ]
    }
   ],
   "source": [
    "for d in data[0]['meanings'][0]['definitions']:\n",
    "    print(d['synonyms'])"
   ]
  },
  {
   "cell_type": "code",
   "execution_count": 98,
   "id": "a9130922-ffb7-43bd-aef7-021632ea4e73",
   "metadata": {},
   "outputs": [],
   "source": [
    "word = data[0]['word']"
   ]
  },
  {
   "cell_type": "code",
   "execution_count": 99,
   "id": "4dc4a730-e479-4000-8923-631eb8e02027",
   "metadata": {},
   "outputs": [
    {
     "data": {
      "text/plain": [
       "'acceptable'"
      ]
     },
     "execution_count": 99,
     "metadata": {},
     "output_type": "execute_result"
    }
   ],
   "source": [
    "word"
   ]
  },
  {
   "cell_type": "code",
   "execution_count": 64,
   "id": "9eefbbe6-22b3-4709-9992-b8949d6275fd",
   "metadata": {},
   "outputs": [],
   "source": [
    "text = data[0]['phonetics'][0]['text']"
   ]
  },
  {
   "cell_type": "code",
   "execution_count": 65,
   "id": "aa8ec565-2b5a-435b-9cc1-eeb3150fee83",
   "metadata": {},
   "outputs": [
    {
     "data": {
      "text/plain": [
       "'/əkˈsɛptəb(ə)l/'"
      ]
     },
     "execution_count": 65,
     "metadata": {},
     "output_type": "execute_result"
    }
   ],
   "source": [
    "text"
   ]
  },
  {
   "cell_type": "code",
   "execution_count": 68,
   "id": "b48d86ad-860f-4c6e-9830-65f148810a88",
   "metadata": {},
   "outputs": [],
   "source": [
    "audio_link = data[0]['phonetics'][0]['audio']"
   ]
  },
  {
   "cell_type": "code",
   "execution_count": 70,
   "id": "f2f48f9f-d01b-4749-aada-2dc50be0d3b3",
   "metadata": {},
   "outputs": [
    {
     "data": {
      "text/plain": [
       "'https://lex-audio.useremarkable.com/mp3/acceptable_us_1.mp3'"
      ]
     },
     "execution_count": 70,
     "metadata": {},
     "output_type": "execute_result"
    }
   ],
   "source": [
    "audio_link"
   ]
  },
  {
   "cell_type": "code",
   "execution_count": 103,
   "id": "40d23324-02ce-4f4c-820e-cc0ef76deac3",
   "metadata": {},
   "outputs": [],
   "source": [
    "audio_url = f'path/{word}.mp3'"
   ]
  },
  {
   "cell_type": "code",
   "execution_count": 104,
   "id": "931e8861-a625-45eb-99fe-7132c2b883d4",
   "metadata": {},
   "outputs": [
    {
     "data": {
      "text/plain": [
       "'path/acceptable.mp3'"
      ]
     },
     "execution_count": 104,
     "metadata": {},
     "output_type": "execute_result"
    }
   ],
   "source": [
    "audio_url"
   ]
  },
  {
   "cell_type": "code",
   "execution_count": 96,
   "id": "d28ed335-ee0a-4645-b9d1-30595ffadc8d",
   "metadata": {},
   "outputs": [
    {
     "name": "stdout",
     "output_type": "stream",
     "text": [
      "par of speach: adjective\n",
      "definition: ['Able to be agreed on; suitable.', 'Able to be tolerated or allowed.']\n",
      "example: ['has tried to find a solution acceptable to everyone', 'pollution in the city had reached four times the acceptable level']\n",
      "synonyms: ['suitable', 'appropriate', 'acceptable', 'fitting', 'fit', 'correct', 'proper', 'desirable', 'preferable', 'ideal', 'bearable', 'tolerable', 'allowable', 'admissible', 'supportable', 'sustainable', 'justifiable', 'defensible', 'defendable']\n"
     ]
    }
   ],
   "source": [
    "example_list = []\n",
    "definition_list = []\n",
    "synonym_list = []\n",
    "\n",
    "for i in range(len(data[0]['meanings'])):\n",
    "    part_of_speach = (data[0]['meanings'][i]['partOfSpeech'])\n",
    "    print(\"par of speach:\", part_of_speach)\n",
    "    for j in range(len(data[0]['meanings'][i]['definitions'])):\n",
    "        definition = data[0]['meanings'][i]['definitions'][j]['definition']\n",
    "        definition_list.append(definition)\n",
    "        example = data[0]['meanings'][i]['definitions'][j]['example']\n",
    "        example_list.append(example)  \n",
    "        for k in range(len(data[0]['meanings'][i]['definitions'][j]['synonyms'])):\n",
    "            if data[0]['meanings'][i]['definitions'][j]['synonyms'][k] not in synonym_list:\n",
    "                synonym_list.append(data[0]['meanings'][i]['definitions'][j]['synonyms'][k])\n",
    "        \n",
    "print(\"definition:\", definition_list)\n",
    "print(\"example:\",example_list)\n",
    "print(\"synonyms:\", synonym_list)"
   ]
  },
  {
   "cell_type": "code",
   "execution_count": null,
   "id": "968fc757-b656-4fbe-97d2-0cb6b60ffa3d",
   "metadata": {},
   "outputs": [],
   "source": []
  }
 ],
 "metadata": {
  "kernelspec": {
   "display_name": "Python 3",
   "language": "python",
   "name": "python3"
  },
  "language_info": {
   "codemirror_mode": {
    "name": "ipython",
    "version": 3
   },
   "file_extension": ".py",
   "mimetype": "text/x-python",
   "name": "python",
   "nbconvert_exporter": "python",
   "pygments_lexer": "ipython3",
   "version": "3.9.6"
  }
 },
 "nbformat": 4,
 "nbformat_minor": 5
}
